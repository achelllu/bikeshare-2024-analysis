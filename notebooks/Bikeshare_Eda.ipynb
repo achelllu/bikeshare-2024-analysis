{
  "nbformat": 4,
  "nbformat_minor": 0,
  "metadata": {
    "colab": {
      "provenance": []
    },
    "kernelspec": {
      "name": "python3",
      "display_name": "Python 3"
    },
    "language_info": {
      "name": "python"
    }
  },
  "cells": [
    {
      "cell_type": "markdown",
      "source": [
        "# Bike Share Data Analysis 2024\n",
        "\n",
        "This notebook analyzes the 2024 Chicago Divvy bikeshare dataset.\n",
        "The main objectives are :\n",
        "\n",
        "*   To understand user behaviour patterns (member vs casual riders)\n",
        "*   To identify monthly, daily, and hourly trends in bike usage\n",
        "*   To explore trip duration and seasonal effects\n",
        "*   To prepare summary datasets for visualitation in Tableau\n"
      ],
      "metadata": {
        "id": "C25DuHCVudJQ"
      }
    },
    {
      "cell_type": "markdown",
      "source": [
        "Import library\n",
        "\n",
        "For this analysis, we made use of the Python libraries Pandas, Matplotlib and Seaborn\n"
      ],
      "metadata": {
        "id": "POu4OSdC7bkk"
      }
    },
    {
      "cell_type": "code",
      "execution_count": 1,
      "metadata": {
        "id": "dqD26-MPphY4"
      },
      "outputs": [],
      "source": [
        "import pandas as pd\n",
        "import matplotlib.pyplot as plt\n",
        "import seaborn as sns\n",
        "sns.set_theme()"
      ]
    },
    {
      "cell_type": "markdown",
      "source": [
        "## 1. Data Loading and Merging\n",
        "\n",
        "We load the monthly bikeshare CSV files for the year 2024 and merge them into a single dataframe for analysis."
      ],
      "metadata": {
        "id": "cWtnqKTr8cM6"
      }
    },
    {
      "cell_type": "code",
      "source": [
        "Jan = pd.read_csv('/content/202401-divvy-tripdata.csv')\n",
        "Feb = pd.read_csv('/content/202402-divvy-tripdata.csv')\n",
        "Mar = pd.read_csv('/content/202403-divvy-tripdata.csv')\n",
        "Apr = pd.read_csv('/content/202404-divvy-tripdata.csv')\n",
        "May = pd.read_csv('/content/202405-divvy-tripdata.csv')\n",
        "Jun = pd.read_csv('/content/202406-divvy-tripdata.csv')\n",
        "Jul = pd.read_csv('/content/202407-divvy-tripdata.csv')\n",
        "Aug = pd.read_csv('/content/202408-divvy-tripdata.csv')\n",
        "Sep = pd.read_csv('/content/202409-divvy-tripdata.csv')\n",
        "Oct = pd.read_csv('/content/202410-divvy-tripdata.csv')\n",
        "Nov = pd.read_csv('/content/202411-divvy-tripdata.csv')\n",
        "Dec = pd.read_csv('/content/202412-divvy-tripdata.csv')"
      ],
      "metadata": {
        "id": "t2NEVoV1y97q"
      },
      "execution_count": 2,
      "outputs": []
    },
    {
      "cell_type": "markdown",
      "source": [
        "Check file size to ensure it is not corrupted during upload"
      ],
      "metadata": {
        "id": "j7At2tTj9d2G"
      }
    },
    {
      "cell_type": "code",
      "source": [
        "ls -lh /content/202401-divvy-tripdata.csv\n"
      ],
      "metadata": {
        "id": "w0FkD11G4Yoc",
        "outputId": "64892875-f3d4-4a58-8e05-e4f86f48caf3",
        "colab": {
          "base_uri": "https://localhost:8080/"
        }
      },
      "execution_count": 3,
      "outputs": [
        {
          "output_type": "stream",
          "name": "stdout",
          "text": [
            "-rw-r--r-- 1 root root 29M Sep 25 14:51 /content/202401-divvy-tripdata.csv\n"
          ]
        }
      ]
    },
    {
      "cell_type": "markdown",
      "source": [
        "Merge all dataframe into single dataframe"
      ],
      "metadata": {
        "id": "Kh0ec6nOP9L8"
      }
    },
    {
      "cell_type": "code",
      "source": [
        "df_all = pd.concat([Jan, Feb, Mar, Apr, May, Jun, Jul, Aug, Sep, Oct, Nov, Dec], ignore_index=True)\n",
        "df_all.size"
      ],
      "metadata": {
        "id": "QXGfc0NuC81Y",
        "colab": {
          "base_uri": "https://localhost:8080/"
        },
        "outputId": "e023f26c-52dc-4210-a754-0fdf6222dc4a"
      },
      "execution_count": 4,
      "outputs": [
        {
          "output_type": "execute_result",
          "data": {
            "text/plain": [
              "76187384"
            ]
          },
          "metadata": {},
          "execution_count": 4
        }
      ]
    },
    {
      "cell_type": "code",
      "source": [
        "df_all.shape"
      ],
      "metadata": {
        "colab": {
          "base_uri": "https://localhost:8080/"
        },
        "id": "ev0w5y3iJ7Uy",
        "outputId": "ca084c34-8993-425c-f19c-518317e878ae"
      },
      "execution_count": 5,
      "outputs": [
        {
          "output_type": "execute_result",
          "data": {
            "text/plain": [
              "(5860568, 13)"
            ]
          },
          "metadata": {},
          "execution_count": 5
        }
      ]
    },
    {
      "cell_type": "markdown",
      "source": [
        "## 2. Data Cleaning\n",
        "\n",
        "Before proceeding, we check:\n",
        "- Duplicates and removes them\n",
        "- Missing values and drop rows with critical nulls ('end_lat', 'end_lng')\n",
        "- Standarize datetime formats ('started_at', 'ended_at')"
      ],
      "metadata": {
        "id": "bEnYaMAH-JMH"
      }
    },
    {
      "cell_type": "markdown",
      "source": [
        "Check duplicates"
      ],
      "metadata": {
        "id": "8sUhXXJkMt3P"
      }
    },
    {
      "cell_type": "code",
      "source": [
        "df_all[df_all.duplicated()]"
      ],
      "metadata": {
        "id": "6F4YukzkKdX0",
        "colab": {
          "base_uri": "https://localhost:8080/",
          "height": 53
        },
        "outputId": "4720b235-d184-477b-ad11-1e395d14ce06"
      },
      "execution_count": 6,
      "outputs": [
        {
          "output_type": "execute_result",
          "data": {
            "text/plain": [
              "Empty DataFrame\n",
              "Columns: [ride_id, rideable_type, started_at, ended_at, start_station_name, start_station_id, end_station_name, end_station_id, start_lat, start_lng, end_lat, end_lng, member_casual]\n",
              "Index: []"
            ],
            "text/html": [
              "\n",
              "  <div id=\"df-c35179ea-f603-4587-b08d-23e679f3824d\" class=\"colab-df-container\">\n",
              "    <div>\n",
              "<style scoped>\n",
              "    .dataframe tbody tr th:only-of-type {\n",
              "        vertical-align: middle;\n",
              "    }\n",
              "\n",
              "    .dataframe tbody tr th {\n",
              "        vertical-align: top;\n",
              "    }\n",
              "\n",
              "    .dataframe thead th {\n",
              "        text-align: right;\n",
              "    }\n",
              "</style>\n",
              "<table border=\"1\" class=\"dataframe\">\n",
              "  <thead>\n",
              "    <tr style=\"text-align: right;\">\n",
              "      <th></th>\n",
              "      <th>ride_id</th>\n",
              "      <th>rideable_type</th>\n",
              "      <th>started_at</th>\n",
              "      <th>ended_at</th>\n",
              "      <th>start_station_name</th>\n",
              "      <th>start_station_id</th>\n",
              "      <th>end_station_name</th>\n",
              "      <th>end_station_id</th>\n",
              "      <th>start_lat</th>\n",
              "      <th>start_lng</th>\n",
              "      <th>end_lat</th>\n",
              "      <th>end_lng</th>\n",
              "      <th>member_casual</th>\n",
              "    </tr>\n",
              "  </thead>\n",
              "  <tbody>\n",
              "  </tbody>\n",
              "</table>\n",
              "</div>\n",
              "    <div class=\"colab-df-buttons\">\n",
              "\n",
              "  <div class=\"colab-df-container\">\n",
              "    <button class=\"colab-df-convert\" onclick=\"convertToInteractive('df-c35179ea-f603-4587-b08d-23e679f3824d')\"\n",
              "            title=\"Convert this dataframe to an interactive table.\"\n",
              "            style=\"display:none;\">\n",
              "\n",
              "  <svg xmlns=\"http://www.w3.org/2000/svg\" height=\"24px\" viewBox=\"0 -960 960 960\">\n",
              "    <path d=\"M120-120v-720h720v720H120Zm60-500h600v-160H180v160Zm220 220h160v-160H400v160Zm0 220h160v-160H400v160ZM180-400h160v-160H180v160Zm440 0h160v-160H620v160ZM180-180h160v-160H180v160Zm440 0h160v-160H620v160Z\"/>\n",
              "  </svg>\n",
              "    </button>\n",
              "\n",
              "  <style>\n",
              "    .colab-df-container {\n",
              "      display:flex;\n",
              "      gap: 12px;\n",
              "    }\n",
              "\n",
              "    .colab-df-convert {\n",
              "      background-color: #E8F0FE;\n",
              "      border: none;\n",
              "      border-radius: 50%;\n",
              "      cursor: pointer;\n",
              "      display: none;\n",
              "      fill: #1967D2;\n",
              "      height: 32px;\n",
              "      padding: 0 0 0 0;\n",
              "      width: 32px;\n",
              "    }\n",
              "\n",
              "    .colab-df-convert:hover {\n",
              "      background-color: #E2EBFA;\n",
              "      box-shadow: 0px 1px 2px rgba(60, 64, 67, 0.3), 0px 1px 3px 1px rgba(60, 64, 67, 0.15);\n",
              "      fill: #174EA6;\n",
              "    }\n",
              "\n",
              "    .colab-df-buttons div {\n",
              "      margin-bottom: 4px;\n",
              "    }\n",
              "\n",
              "    [theme=dark] .colab-df-convert {\n",
              "      background-color: #3B4455;\n",
              "      fill: #D2E3FC;\n",
              "    }\n",
              "\n",
              "    [theme=dark] .colab-df-convert:hover {\n",
              "      background-color: #434B5C;\n",
              "      box-shadow: 0px 1px 3px 1px rgba(0, 0, 0, 0.15);\n",
              "      filter: drop-shadow(0px 1px 2px rgba(0, 0, 0, 0.3));\n",
              "      fill: #FFFFFF;\n",
              "    }\n",
              "  </style>\n",
              "\n",
              "    <script>\n",
              "      const buttonEl =\n",
              "        document.querySelector('#df-c35179ea-f603-4587-b08d-23e679f3824d button.colab-df-convert');\n",
              "      buttonEl.style.display =\n",
              "        google.colab.kernel.accessAllowed ? 'block' : 'none';\n",
              "\n",
              "      async function convertToInteractive(key) {\n",
              "        const element = document.querySelector('#df-c35179ea-f603-4587-b08d-23e679f3824d');\n",
              "        const dataTable =\n",
              "          await google.colab.kernel.invokeFunction('convertToInteractive',\n",
              "                                                    [key], {});\n",
              "        if (!dataTable) return;\n",
              "\n",
              "        const docLinkHtml = 'Like what you see? Visit the ' +\n",
              "          '<a target=\"_blank\" href=https://colab.research.google.com/notebooks/data_table.ipynb>data table notebook</a>'\n",
              "          + ' to learn more about interactive tables.';\n",
              "        element.innerHTML = '';\n",
              "        dataTable['output_type'] = 'display_data';\n",
              "        await google.colab.output.renderOutput(dataTable, element);\n",
              "        const docLink = document.createElement('div');\n",
              "        docLink.innerHTML = docLinkHtml;\n",
              "        element.appendChild(docLink);\n",
              "      }\n",
              "    </script>\n",
              "  </div>\n",
              "\n",
              "\n",
              "    </div>\n",
              "  </div>\n"
            ],
            "application/vnd.google.colaboratory.intrinsic+json": {
              "type": "dataframe",
              "repr_error": "Out of range float values are not JSON compliant: nan"
            }
          },
          "metadata": {},
          "execution_count": 6
        }
      ]
    },
    {
      "cell_type": "markdown",
      "source": [
        "Remove duplicates"
      ],
      "metadata": {
        "id": "Y9YX0ZWZMx8Z"
      }
    },
    {
      "cell_type": "code",
      "source": [
        "print(\"Before :\", df_all.shape )\n",
        "df_all=df_all.drop_duplicates()\n",
        "print(\"After :\", df_all.shape)"
      ],
      "metadata": {
        "colab": {
          "base_uri": "https://localhost:8080/"
        },
        "id": "6rzqioZwXH3m",
        "outputId": "e5fa533d-2c5e-4ab0-ceec-887f4039abe4"
      },
      "execution_count": 7,
      "outputs": [
        {
          "output_type": "stream",
          "name": "stdout",
          "text": [
            "Before : (5860568, 13)\n",
            "After : (5860568, 13)\n"
          ]
        }
      ]
    },
    {
      "cell_type": "markdown",
      "source": [
        "Check missing values"
      ],
      "metadata": {
        "id": "Oi7zjtknM73B"
      }
    },
    {
      "cell_type": "code",
      "source": [
        "df_all.isnull().sum()"
      ],
      "metadata": {
        "colab": {
          "base_uri": "https://localhost:8080/",
          "height": 492
        },
        "id": "4cXzmIOMZs5v",
        "outputId": "fa0411f8-ad27-40f2-aae9-3e5796b488d2"
      },
      "execution_count": 8,
      "outputs": [
        {
          "output_type": "execute_result",
          "data": {
            "text/plain": [
              "ride_id                     0\n",
              "rideable_type               0\n",
              "started_at                  0\n",
              "ended_at                    0\n",
              "start_station_name    1073951\n",
              "start_station_id      1073951\n",
              "end_station_name      1104653\n",
              "end_station_id        1104653\n",
              "start_lat                   0\n",
              "start_lng                   0\n",
              "end_lat                  7232\n",
              "end_lng                  7232\n",
              "member_casual               0\n",
              "dtype: int64"
            ],
            "text/html": [
              "<div>\n",
              "<style scoped>\n",
              "    .dataframe tbody tr th:only-of-type {\n",
              "        vertical-align: middle;\n",
              "    }\n",
              "\n",
              "    .dataframe tbody tr th {\n",
              "        vertical-align: top;\n",
              "    }\n",
              "\n",
              "    .dataframe thead th {\n",
              "        text-align: right;\n",
              "    }\n",
              "</style>\n",
              "<table border=\"1\" class=\"dataframe\">\n",
              "  <thead>\n",
              "    <tr style=\"text-align: right;\">\n",
              "      <th></th>\n",
              "      <th>0</th>\n",
              "    </tr>\n",
              "  </thead>\n",
              "  <tbody>\n",
              "    <tr>\n",
              "      <th>ride_id</th>\n",
              "      <td>0</td>\n",
              "    </tr>\n",
              "    <tr>\n",
              "      <th>rideable_type</th>\n",
              "      <td>0</td>\n",
              "    </tr>\n",
              "    <tr>\n",
              "      <th>started_at</th>\n",
              "      <td>0</td>\n",
              "    </tr>\n",
              "    <tr>\n",
              "      <th>ended_at</th>\n",
              "      <td>0</td>\n",
              "    </tr>\n",
              "    <tr>\n",
              "      <th>start_station_name</th>\n",
              "      <td>1073951</td>\n",
              "    </tr>\n",
              "    <tr>\n",
              "      <th>start_station_id</th>\n",
              "      <td>1073951</td>\n",
              "    </tr>\n",
              "    <tr>\n",
              "      <th>end_station_name</th>\n",
              "      <td>1104653</td>\n",
              "    </tr>\n",
              "    <tr>\n",
              "      <th>end_station_id</th>\n",
              "      <td>1104653</td>\n",
              "    </tr>\n",
              "    <tr>\n",
              "      <th>start_lat</th>\n",
              "      <td>0</td>\n",
              "    </tr>\n",
              "    <tr>\n",
              "      <th>start_lng</th>\n",
              "      <td>0</td>\n",
              "    </tr>\n",
              "    <tr>\n",
              "      <th>end_lat</th>\n",
              "      <td>7232</td>\n",
              "    </tr>\n",
              "    <tr>\n",
              "      <th>end_lng</th>\n",
              "      <td>7232</td>\n",
              "    </tr>\n",
              "    <tr>\n",
              "      <th>member_casual</th>\n",
              "      <td>0</td>\n",
              "    </tr>\n",
              "  </tbody>\n",
              "</table>\n",
              "</div><br><label><b>dtype:</b> int64</label>"
            ]
          },
          "metadata": {},
          "execution_count": 8
        }
      ]
    },
    {
      "cell_type": "markdown",
      "source": [
        "Drop rows of missing values"
      ],
      "metadata": {
        "id": "vIAIgLxuNE-D"
      }
    },
    {
      "cell_type": "code",
      "source": [
        "print(\"Before_delete :\", len(df_all))\n",
        "df_clean = df_all.dropna(subset=['end_lat', 'end_lng'])\n",
        "print(\"After_delete :\", len(df_clean))"
      ],
      "metadata": {
        "colab": {
          "base_uri": "https://localhost:8080/"
        },
        "id": "rHrFXfZPaUFt",
        "outputId": "66d50aa1-4dd7-42a7-d981-58f745cc8660"
      },
      "execution_count": 9,
      "outputs": [
        {
          "output_type": "stream",
          "name": "stdout",
          "text": [
            "Before_delete : 5860568\n",
            "After_delete : 5853336\n"
          ]
        }
      ]
    },
    {
      "cell_type": "markdown",
      "source": [
        "Convert 'started_at' and 'ended_at' columns into datetime objects."
      ],
      "metadata": {
        "id": "IVjW5nkuNXkN"
      }
    },
    {
      "cell_type": "code",
      "source": [
        "df_clean = df_clean.copy()\n",
        "\n",
        "df_clean['started_at'] = df_clean['started_at'].astype(str).str.replace(r'\\.\\d+', '', regex=True)\n",
        "df_clean['ended_at'] = df_clean['ended_at'].astype(str).str.replace(r'\\.\\d+', '', regex=True)\n",
        "\n",
        "df_clean['started_at'] = pd.to_datetime(df_clean['started_at'], errors='coerce')\n",
        "df_clean['ended_at'] = pd.to_datetime(df_clean['ended_at'], errors='coerce')"
      ],
      "metadata": {
        "id": "HwU-lcbVPN46"
      },
      "execution_count": 10,
      "outputs": []
    },
    {
      "cell_type": "code",
      "source": [
        "df_clean.head(10)"
      ],
      "metadata": {
        "colab": {
          "base_uri": "https://localhost:8080/",
          "height": 730
        },
        "id": "kUbYDBCqTLHG",
        "outputId": "994aa0cb-6d03-4152-e2e2-4257faebe4ff"
      },
      "execution_count": 11,
      "outputs": [
        {
          "output_type": "execute_result",
          "data": {
            "text/plain": [
              "            ride_id  rideable_type          started_at            ended_at  \\\n",
              "0  C1D650626C8C899A  electric_bike 2024-01-12 15:30:27 2024-01-12 15:37:59   \n",
              "1  EECD38BDB25BFCB0  electric_bike 2024-01-08 15:45:46 2024-01-08 15:52:59   \n",
              "2  F4A9CE78061F17F7  electric_bike 2024-01-27 12:27:19 2024-01-27 12:35:19   \n",
              "3  0A0D9E15EE50B171   classic_bike 2024-01-29 16:26:17 2024-01-29 16:56:06   \n",
              "4  33FFC9805E3EFF9A   classic_bike 2024-01-31 05:43:23 2024-01-31 06:09:35   \n",
              "5  C96080812CD285C5   classic_bike 2024-01-07 11:21:24 2024-01-07 11:30:03   \n",
              "6  0EA7CB313D4F456A   classic_bike 2024-01-05 14:44:12 2024-01-05 14:53:06   \n",
              "7  EE11F3A3B39CFBD8  electric_bike 2024-01-04 18:19:53 2024-01-04 18:28:04   \n",
              "8  63E83DE8E3279F15   classic_bike 2024-01-01 14:46:53 2024-01-01 14:57:02   \n",
              "9  8005682869122D93  electric_bike 2024-01-03 19:31:08 2024-01-03 19:40:05   \n",
              "\n",
              "           start_station_name start_station_id           end_station_name  \\\n",
              "0           Wells St & Elm St     KA1504000135   Kingsbury St & Kinzie St   \n",
              "1           Wells St & Elm St     KA1504000135   Kingsbury St & Kinzie St   \n",
              "2           Wells St & Elm St     KA1504000135   Kingsbury St & Kinzie St   \n",
              "3      Wells St & Randolph St     TA1305000030  Larrabee St & Webster Ave   \n",
              "4  Lincoln Ave & Waveland Ave            13253   Kingsbury St & Kinzie St   \n",
              "5           Wells St & Elm St     KA1504000135   Kingsbury St & Kinzie St   \n",
              "6           Wells St & Elm St     KA1504000135   Kingsbury St & Kinzie St   \n",
              "7           Wells St & Elm St     KA1504000135   Kingsbury St & Kinzie St   \n",
              "8           Wells St & Elm St     KA1504000135   Kingsbury St & Kinzie St   \n",
              "9   Clark St & Ida B Wells Dr     TA1305000009   Kingsbury St & Kinzie St   \n",
              "\n",
              "  end_station_id  start_lat  start_lng    end_lat    end_lng member_casual  \n",
              "0   KA1503000043  41.903267 -87.634737  41.889177 -87.638506        member  \n",
              "1   KA1503000043  41.902937 -87.634440  41.889177 -87.638506        member  \n",
              "2   KA1503000043  41.902951 -87.634470  41.889177 -87.638506        member  \n",
              "3          13193  41.884295 -87.633963  41.921822 -87.644140        member  \n",
              "4   KA1503000043  41.948797 -87.675278  41.889177 -87.638506        member  \n",
              "5   KA1503000043  41.903222 -87.634324  41.889177 -87.638506        member  \n",
              "6   KA1503000043  41.903222 -87.634324  41.889177 -87.638506        member  \n",
              "7   KA1503000043  41.903368 -87.634861  41.889177 -87.638506        member  \n",
              "8   KA1503000043  41.903222 -87.634324  41.889177 -87.638506        member  \n",
              "9   KA1503000043  41.876033 -87.630866  41.889177 -87.638506        member  "
            ],
            "text/html": [
              "\n",
              "  <div id=\"df-f509af1b-2a8b-41a3-9874-7ca485e4a34a\" class=\"colab-df-container\">\n",
              "    <div>\n",
              "<style scoped>\n",
              "    .dataframe tbody tr th:only-of-type {\n",
              "        vertical-align: middle;\n",
              "    }\n",
              "\n",
              "    .dataframe tbody tr th {\n",
              "        vertical-align: top;\n",
              "    }\n",
              "\n",
              "    .dataframe thead th {\n",
              "        text-align: right;\n",
              "    }\n",
              "</style>\n",
              "<table border=\"1\" class=\"dataframe\">\n",
              "  <thead>\n",
              "    <tr style=\"text-align: right;\">\n",
              "      <th></th>\n",
              "      <th>ride_id</th>\n",
              "      <th>rideable_type</th>\n",
              "      <th>started_at</th>\n",
              "      <th>ended_at</th>\n",
              "      <th>start_station_name</th>\n",
              "      <th>start_station_id</th>\n",
              "      <th>end_station_name</th>\n",
              "      <th>end_station_id</th>\n",
              "      <th>start_lat</th>\n",
              "      <th>start_lng</th>\n",
              "      <th>end_lat</th>\n",
              "      <th>end_lng</th>\n",
              "      <th>member_casual</th>\n",
              "    </tr>\n",
              "  </thead>\n",
              "  <tbody>\n",
              "    <tr>\n",
              "      <th>0</th>\n",
              "      <td>C1D650626C8C899A</td>\n",
              "      <td>electric_bike</td>\n",
              "      <td>2024-01-12 15:30:27</td>\n",
              "      <td>2024-01-12 15:37:59</td>\n",
              "      <td>Wells St &amp; Elm St</td>\n",
              "      <td>KA1504000135</td>\n",
              "      <td>Kingsbury St &amp; Kinzie St</td>\n",
              "      <td>KA1503000043</td>\n",
              "      <td>41.903267</td>\n",
              "      <td>-87.634737</td>\n",
              "      <td>41.889177</td>\n",
              "      <td>-87.638506</td>\n",
              "      <td>member</td>\n",
              "    </tr>\n",
              "    <tr>\n",
              "      <th>1</th>\n",
              "      <td>EECD38BDB25BFCB0</td>\n",
              "      <td>electric_bike</td>\n",
              "      <td>2024-01-08 15:45:46</td>\n",
              "      <td>2024-01-08 15:52:59</td>\n",
              "      <td>Wells St &amp; Elm St</td>\n",
              "      <td>KA1504000135</td>\n",
              "      <td>Kingsbury St &amp; Kinzie St</td>\n",
              "      <td>KA1503000043</td>\n",
              "      <td>41.902937</td>\n",
              "      <td>-87.634440</td>\n",
              "      <td>41.889177</td>\n",
              "      <td>-87.638506</td>\n",
              "      <td>member</td>\n",
              "    </tr>\n",
              "    <tr>\n",
              "      <th>2</th>\n",
              "      <td>F4A9CE78061F17F7</td>\n",
              "      <td>electric_bike</td>\n",
              "      <td>2024-01-27 12:27:19</td>\n",
              "      <td>2024-01-27 12:35:19</td>\n",
              "      <td>Wells St &amp; Elm St</td>\n",
              "      <td>KA1504000135</td>\n",
              "      <td>Kingsbury St &amp; Kinzie St</td>\n",
              "      <td>KA1503000043</td>\n",
              "      <td>41.902951</td>\n",
              "      <td>-87.634470</td>\n",
              "      <td>41.889177</td>\n",
              "      <td>-87.638506</td>\n",
              "      <td>member</td>\n",
              "    </tr>\n",
              "    <tr>\n",
              "      <th>3</th>\n",
              "      <td>0A0D9E15EE50B171</td>\n",
              "      <td>classic_bike</td>\n",
              "      <td>2024-01-29 16:26:17</td>\n",
              "      <td>2024-01-29 16:56:06</td>\n",
              "      <td>Wells St &amp; Randolph St</td>\n",
              "      <td>TA1305000030</td>\n",
              "      <td>Larrabee St &amp; Webster Ave</td>\n",
              "      <td>13193</td>\n",
              "      <td>41.884295</td>\n",
              "      <td>-87.633963</td>\n",
              "      <td>41.921822</td>\n",
              "      <td>-87.644140</td>\n",
              "      <td>member</td>\n",
              "    </tr>\n",
              "    <tr>\n",
              "      <th>4</th>\n",
              "      <td>33FFC9805E3EFF9A</td>\n",
              "      <td>classic_bike</td>\n",
              "      <td>2024-01-31 05:43:23</td>\n",
              "      <td>2024-01-31 06:09:35</td>\n",
              "      <td>Lincoln Ave &amp; Waveland Ave</td>\n",
              "      <td>13253</td>\n",
              "      <td>Kingsbury St &amp; Kinzie St</td>\n",
              "      <td>KA1503000043</td>\n",
              "      <td>41.948797</td>\n",
              "      <td>-87.675278</td>\n",
              "      <td>41.889177</td>\n",
              "      <td>-87.638506</td>\n",
              "      <td>member</td>\n",
              "    </tr>\n",
              "    <tr>\n",
              "      <th>5</th>\n",
              "      <td>C96080812CD285C5</td>\n",
              "      <td>classic_bike</td>\n",
              "      <td>2024-01-07 11:21:24</td>\n",
              "      <td>2024-01-07 11:30:03</td>\n",
              "      <td>Wells St &amp; Elm St</td>\n",
              "      <td>KA1504000135</td>\n",
              "      <td>Kingsbury St &amp; Kinzie St</td>\n",
              "      <td>KA1503000043</td>\n",
              "      <td>41.903222</td>\n",
              "      <td>-87.634324</td>\n",
              "      <td>41.889177</td>\n",
              "      <td>-87.638506</td>\n",
              "      <td>member</td>\n",
              "    </tr>\n",
              "    <tr>\n",
              "      <th>6</th>\n",
              "      <td>0EA7CB313D4F456A</td>\n",
              "      <td>classic_bike</td>\n",
              "      <td>2024-01-05 14:44:12</td>\n",
              "      <td>2024-01-05 14:53:06</td>\n",
              "      <td>Wells St &amp; Elm St</td>\n",
              "      <td>KA1504000135</td>\n",
              "      <td>Kingsbury St &amp; Kinzie St</td>\n",
              "      <td>KA1503000043</td>\n",
              "      <td>41.903222</td>\n",
              "      <td>-87.634324</td>\n",
              "      <td>41.889177</td>\n",
              "      <td>-87.638506</td>\n",
              "      <td>member</td>\n",
              "    </tr>\n",
              "    <tr>\n",
              "      <th>7</th>\n",
              "      <td>EE11F3A3B39CFBD8</td>\n",
              "      <td>electric_bike</td>\n",
              "      <td>2024-01-04 18:19:53</td>\n",
              "      <td>2024-01-04 18:28:04</td>\n",
              "      <td>Wells St &amp; Elm St</td>\n",
              "      <td>KA1504000135</td>\n",
              "      <td>Kingsbury St &amp; Kinzie St</td>\n",
              "      <td>KA1503000043</td>\n",
              "      <td>41.903368</td>\n",
              "      <td>-87.634861</td>\n",
              "      <td>41.889177</td>\n",
              "      <td>-87.638506</td>\n",
              "      <td>member</td>\n",
              "    </tr>\n",
              "    <tr>\n",
              "      <th>8</th>\n",
              "      <td>63E83DE8E3279F15</td>\n",
              "      <td>classic_bike</td>\n",
              "      <td>2024-01-01 14:46:53</td>\n",
              "      <td>2024-01-01 14:57:02</td>\n",
              "      <td>Wells St &amp; Elm St</td>\n",
              "      <td>KA1504000135</td>\n",
              "      <td>Kingsbury St &amp; Kinzie St</td>\n",
              "      <td>KA1503000043</td>\n",
              "      <td>41.903222</td>\n",
              "      <td>-87.634324</td>\n",
              "      <td>41.889177</td>\n",
              "      <td>-87.638506</td>\n",
              "      <td>member</td>\n",
              "    </tr>\n",
              "    <tr>\n",
              "      <th>9</th>\n",
              "      <td>8005682869122D93</td>\n",
              "      <td>electric_bike</td>\n",
              "      <td>2024-01-03 19:31:08</td>\n",
              "      <td>2024-01-03 19:40:05</td>\n",
              "      <td>Clark St &amp; Ida B Wells Dr</td>\n",
              "      <td>TA1305000009</td>\n",
              "      <td>Kingsbury St &amp; Kinzie St</td>\n",
              "      <td>KA1503000043</td>\n",
              "      <td>41.876033</td>\n",
              "      <td>-87.630866</td>\n",
              "      <td>41.889177</td>\n",
              "      <td>-87.638506</td>\n",
              "      <td>member</td>\n",
              "    </tr>\n",
              "  </tbody>\n",
              "</table>\n",
              "</div>\n",
              "    <div class=\"colab-df-buttons\">\n",
              "\n",
              "  <div class=\"colab-df-container\">\n",
              "    <button class=\"colab-df-convert\" onclick=\"convertToInteractive('df-f509af1b-2a8b-41a3-9874-7ca485e4a34a')\"\n",
              "            title=\"Convert this dataframe to an interactive table.\"\n",
              "            style=\"display:none;\">\n",
              "\n",
              "  <svg xmlns=\"http://www.w3.org/2000/svg\" height=\"24px\" viewBox=\"0 -960 960 960\">\n",
              "    <path d=\"M120-120v-720h720v720H120Zm60-500h600v-160H180v160Zm220 220h160v-160H400v160Zm0 220h160v-160H400v160ZM180-400h160v-160H180v160Zm440 0h160v-160H620v160ZM180-180h160v-160H180v160Zm440 0h160v-160H620v160Z\"/>\n",
              "  </svg>\n",
              "    </button>\n",
              "\n",
              "  <style>\n",
              "    .colab-df-container {\n",
              "      display:flex;\n",
              "      gap: 12px;\n",
              "    }\n",
              "\n",
              "    .colab-df-convert {\n",
              "      background-color: #E8F0FE;\n",
              "      border: none;\n",
              "      border-radius: 50%;\n",
              "      cursor: pointer;\n",
              "      display: none;\n",
              "      fill: #1967D2;\n",
              "      height: 32px;\n",
              "      padding: 0 0 0 0;\n",
              "      width: 32px;\n",
              "    }\n",
              "\n",
              "    .colab-df-convert:hover {\n",
              "      background-color: #E2EBFA;\n",
              "      box-shadow: 0px 1px 2px rgba(60, 64, 67, 0.3), 0px 1px 3px 1px rgba(60, 64, 67, 0.15);\n",
              "      fill: #174EA6;\n",
              "    }\n",
              "\n",
              "    .colab-df-buttons div {\n",
              "      margin-bottom: 4px;\n",
              "    }\n",
              "\n",
              "    [theme=dark] .colab-df-convert {\n",
              "      background-color: #3B4455;\n",
              "      fill: #D2E3FC;\n",
              "    }\n",
              "\n",
              "    [theme=dark] .colab-df-convert:hover {\n",
              "      background-color: #434B5C;\n",
              "      box-shadow: 0px 1px 3px 1px rgba(0, 0, 0, 0.15);\n",
              "      filter: drop-shadow(0px 1px 2px rgba(0, 0, 0, 0.3));\n",
              "      fill: #FFFFFF;\n",
              "    }\n",
              "  </style>\n",
              "\n",
              "    <script>\n",
              "      const buttonEl =\n",
              "        document.querySelector('#df-f509af1b-2a8b-41a3-9874-7ca485e4a34a button.colab-df-convert');\n",
              "      buttonEl.style.display =\n",
              "        google.colab.kernel.accessAllowed ? 'block' : 'none';\n",
              "\n",
              "      async function convertToInteractive(key) {\n",
              "        const element = document.querySelector('#df-f509af1b-2a8b-41a3-9874-7ca485e4a34a');\n",
              "        const dataTable =\n",
              "          await google.colab.kernel.invokeFunction('convertToInteractive',\n",
              "                                                    [key], {});\n",
              "        if (!dataTable) return;\n",
              "\n",
              "        const docLinkHtml = 'Like what you see? Visit the ' +\n",
              "          '<a target=\"_blank\" href=https://colab.research.google.com/notebooks/data_table.ipynb>data table notebook</a>'\n",
              "          + ' to learn more about interactive tables.';\n",
              "        element.innerHTML = '';\n",
              "        dataTable['output_type'] = 'display_data';\n",
              "        await google.colab.output.renderOutput(dataTable, element);\n",
              "        const docLink = document.createElement('div');\n",
              "        docLink.innerHTML = docLinkHtml;\n",
              "        element.appendChild(docLink);\n",
              "      }\n",
              "    </script>\n",
              "  </div>\n",
              "\n",
              "\n",
              "    <div id=\"df-a98ac62e-22a8-4250-aca4-6a025d099f75\">\n",
              "      <button class=\"colab-df-quickchart\" onclick=\"quickchart('df-a98ac62e-22a8-4250-aca4-6a025d099f75')\"\n",
              "                title=\"Suggest charts\"\n",
              "                style=\"display:none;\">\n",
              "\n",
              "<svg xmlns=\"http://www.w3.org/2000/svg\" height=\"24px\"viewBox=\"0 0 24 24\"\n",
              "     width=\"24px\">\n",
              "    <g>\n",
              "        <path d=\"M19 3H5c-1.1 0-2 .9-2 2v14c0 1.1.9 2 2 2h14c1.1 0 2-.9 2-2V5c0-1.1-.9-2-2-2zM9 17H7v-7h2v7zm4 0h-2V7h2v10zm4 0h-2v-4h2v4z\"/>\n",
              "    </g>\n",
              "</svg>\n",
              "      </button>\n",
              "\n",
              "<style>\n",
              "  .colab-df-quickchart {\n",
              "      --bg-color: #E8F0FE;\n",
              "      --fill-color: #1967D2;\n",
              "      --hover-bg-color: #E2EBFA;\n",
              "      --hover-fill-color: #174EA6;\n",
              "      --disabled-fill-color: #AAA;\n",
              "      --disabled-bg-color: #DDD;\n",
              "  }\n",
              "\n",
              "  [theme=dark] .colab-df-quickchart {\n",
              "      --bg-color: #3B4455;\n",
              "      --fill-color: #D2E3FC;\n",
              "      --hover-bg-color: #434B5C;\n",
              "      --hover-fill-color: #FFFFFF;\n",
              "      --disabled-bg-color: #3B4455;\n",
              "      --disabled-fill-color: #666;\n",
              "  }\n",
              "\n",
              "  .colab-df-quickchart {\n",
              "    background-color: var(--bg-color);\n",
              "    border: none;\n",
              "    border-radius: 50%;\n",
              "    cursor: pointer;\n",
              "    display: none;\n",
              "    fill: var(--fill-color);\n",
              "    height: 32px;\n",
              "    padding: 0;\n",
              "    width: 32px;\n",
              "  }\n",
              "\n",
              "  .colab-df-quickchart:hover {\n",
              "    background-color: var(--hover-bg-color);\n",
              "    box-shadow: 0 1px 2px rgba(60, 64, 67, 0.3), 0 1px 3px 1px rgba(60, 64, 67, 0.15);\n",
              "    fill: var(--button-hover-fill-color);\n",
              "  }\n",
              "\n",
              "  .colab-df-quickchart-complete:disabled,\n",
              "  .colab-df-quickchart-complete:disabled:hover {\n",
              "    background-color: var(--disabled-bg-color);\n",
              "    fill: var(--disabled-fill-color);\n",
              "    box-shadow: none;\n",
              "  }\n",
              "\n",
              "  .colab-df-spinner {\n",
              "    border: 2px solid var(--fill-color);\n",
              "    border-color: transparent;\n",
              "    border-bottom-color: var(--fill-color);\n",
              "    animation:\n",
              "      spin 1s steps(1) infinite;\n",
              "  }\n",
              "\n",
              "  @keyframes spin {\n",
              "    0% {\n",
              "      border-color: transparent;\n",
              "      border-bottom-color: var(--fill-color);\n",
              "      border-left-color: var(--fill-color);\n",
              "    }\n",
              "    20% {\n",
              "      border-color: transparent;\n",
              "      border-left-color: var(--fill-color);\n",
              "      border-top-color: var(--fill-color);\n",
              "    }\n",
              "    30% {\n",
              "      border-color: transparent;\n",
              "      border-left-color: var(--fill-color);\n",
              "      border-top-color: var(--fill-color);\n",
              "      border-right-color: var(--fill-color);\n",
              "    }\n",
              "    40% {\n",
              "      border-color: transparent;\n",
              "      border-right-color: var(--fill-color);\n",
              "      border-top-color: var(--fill-color);\n",
              "    }\n",
              "    60% {\n",
              "      border-color: transparent;\n",
              "      border-right-color: var(--fill-color);\n",
              "    }\n",
              "    80% {\n",
              "      border-color: transparent;\n",
              "      border-right-color: var(--fill-color);\n",
              "      border-bottom-color: var(--fill-color);\n",
              "    }\n",
              "    90% {\n",
              "      border-color: transparent;\n",
              "      border-bottom-color: var(--fill-color);\n",
              "    }\n",
              "  }\n",
              "</style>\n",
              "\n",
              "      <script>\n",
              "        async function quickchart(key) {\n",
              "          const quickchartButtonEl =\n",
              "            document.querySelector('#' + key + ' button');\n",
              "          quickchartButtonEl.disabled = true;  // To prevent multiple clicks.\n",
              "          quickchartButtonEl.classList.add('colab-df-spinner');\n",
              "          try {\n",
              "            const charts = await google.colab.kernel.invokeFunction(\n",
              "                'suggestCharts', [key], {});\n",
              "          } catch (error) {\n",
              "            console.error('Error during call to suggestCharts:', error);\n",
              "          }\n",
              "          quickchartButtonEl.classList.remove('colab-df-spinner');\n",
              "          quickchartButtonEl.classList.add('colab-df-quickchart-complete');\n",
              "        }\n",
              "        (() => {\n",
              "          let quickchartButtonEl =\n",
              "            document.querySelector('#df-a98ac62e-22a8-4250-aca4-6a025d099f75 button');\n",
              "          quickchartButtonEl.style.display =\n",
              "            google.colab.kernel.accessAllowed ? 'block' : 'none';\n",
              "        })();\n",
              "      </script>\n",
              "    </div>\n",
              "\n",
              "    </div>\n",
              "  </div>\n"
            ],
            "application/vnd.google.colaboratory.intrinsic+json": {
              "type": "dataframe",
              "variable_name": "df_clean"
            }
          },
          "metadata": {},
          "execution_count": 11
        }
      ]
    },
    {
      "cell_type": "markdown",
      "source": [
        "## 3. Feature Engineering\n",
        "\n",
        "We Create additional columns:\n",
        "*  'duration_min' ➡ trip duration in minutes\n",
        "*  'day_of_week' ➡ weekday names\n",
        "*  'month', 'day', 'hour' ➡ extracted from start time\n",
        "*  'season' ➡ grouped by month\n",
        "\n",
        "\n",
        "\n"
      ],
      "metadata": {
        "id": "4SS_o8AHS--o"
      }
    },
    {
      "cell_type": "code",
      "source": [
        "df_clean['duration_min'] = (df_clean['ended_at'] - df_clean['started_at']).dt.total_seconds() / 60\n",
        "df_clean['day_of_week'] = df_clean['started_at'].dt.day_name()\n",
        "df_clean['hour'] = df_clean['started_at'].dt.hour\n",
        "df_clean['month'] = df_clean['started_at'].dt.month_name()"
      ],
      "metadata": {
        "id": "Myjsh42kTnwm"
      },
      "execution_count": 12,
      "outputs": []
    },
    {
      "cell_type": "code",
      "source": [
        "df_clean.head(10)"
      ],
      "metadata": {
        "id": "UEAPTRh_Vext",
        "colab": {
          "base_uri": "https://localhost:8080/",
          "height": 730
        },
        "outputId": "33b7d950-1e38-4c28-955f-53184044f25a"
      },
      "execution_count": 13,
      "outputs": [
        {
          "output_type": "execute_result",
          "data": {
            "text/plain": [
              "            ride_id  rideable_type          started_at            ended_at  \\\n",
              "0  C1D650626C8C899A  electric_bike 2024-01-12 15:30:27 2024-01-12 15:37:59   \n",
              "1  EECD38BDB25BFCB0  electric_bike 2024-01-08 15:45:46 2024-01-08 15:52:59   \n",
              "2  F4A9CE78061F17F7  electric_bike 2024-01-27 12:27:19 2024-01-27 12:35:19   \n",
              "3  0A0D9E15EE50B171   classic_bike 2024-01-29 16:26:17 2024-01-29 16:56:06   \n",
              "4  33FFC9805E3EFF9A   classic_bike 2024-01-31 05:43:23 2024-01-31 06:09:35   \n",
              "5  C96080812CD285C5   classic_bike 2024-01-07 11:21:24 2024-01-07 11:30:03   \n",
              "6  0EA7CB313D4F456A   classic_bike 2024-01-05 14:44:12 2024-01-05 14:53:06   \n",
              "7  EE11F3A3B39CFBD8  electric_bike 2024-01-04 18:19:53 2024-01-04 18:28:04   \n",
              "8  63E83DE8E3279F15   classic_bike 2024-01-01 14:46:53 2024-01-01 14:57:02   \n",
              "9  8005682869122D93  electric_bike 2024-01-03 19:31:08 2024-01-03 19:40:05   \n",
              "\n",
              "           start_station_name start_station_id           end_station_name  \\\n",
              "0           Wells St & Elm St     KA1504000135   Kingsbury St & Kinzie St   \n",
              "1           Wells St & Elm St     KA1504000135   Kingsbury St & Kinzie St   \n",
              "2           Wells St & Elm St     KA1504000135   Kingsbury St & Kinzie St   \n",
              "3      Wells St & Randolph St     TA1305000030  Larrabee St & Webster Ave   \n",
              "4  Lincoln Ave & Waveland Ave            13253   Kingsbury St & Kinzie St   \n",
              "5           Wells St & Elm St     KA1504000135   Kingsbury St & Kinzie St   \n",
              "6           Wells St & Elm St     KA1504000135   Kingsbury St & Kinzie St   \n",
              "7           Wells St & Elm St     KA1504000135   Kingsbury St & Kinzie St   \n",
              "8           Wells St & Elm St     KA1504000135   Kingsbury St & Kinzie St   \n",
              "9   Clark St & Ida B Wells Dr     TA1305000009   Kingsbury St & Kinzie St   \n",
              "\n",
              "  end_station_id  start_lat  start_lng    end_lat    end_lng member_casual  \\\n",
              "0   KA1503000043  41.903267 -87.634737  41.889177 -87.638506        member   \n",
              "1   KA1503000043  41.902937 -87.634440  41.889177 -87.638506        member   \n",
              "2   KA1503000043  41.902951 -87.634470  41.889177 -87.638506        member   \n",
              "3          13193  41.884295 -87.633963  41.921822 -87.644140        member   \n",
              "4   KA1503000043  41.948797 -87.675278  41.889177 -87.638506        member   \n",
              "5   KA1503000043  41.903222 -87.634324  41.889177 -87.638506        member   \n",
              "6   KA1503000043  41.903222 -87.634324  41.889177 -87.638506        member   \n",
              "7   KA1503000043  41.903368 -87.634861  41.889177 -87.638506        member   \n",
              "8   KA1503000043  41.903222 -87.634324  41.889177 -87.638506        member   \n",
              "9   KA1503000043  41.876033 -87.630866  41.889177 -87.638506        member   \n",
              "\n",
              "   duration_min day_of_week  hour    month  \n",
              "0      7.533333      Friday    15  January  \n",
              "1      7.216667      Monday    15  January  \n",
              "2      8.000000    Saturday    12  January  \n",
              "3     29.816667      Monday    16  January  \n",
              "4     26.200000   Wednesday     5  January  \n",
              "5      8.650000      Sunday    11  January  \n",
              "6      8.900000      Friday    14  January  \n",
              "7      8.183333    Thursday    18  January  \n",
              "8     10.150000      Monday    14  January  \n",
              "9      8.950000   Wednesday    19  January  "
            ],
            "text/html": [
              "\n",
              "  <div id=\"df-632e46c5-8ee5-4aa5-ac14-b1b7b1b0f565\" class=\"colab-df-container\">\n",
              "    <div>\n",
              "<style scoped>\n",
              "    .dataframe tbody tr th:only-of-type {\n",
              "        vertical-align: middle;\n",
              "    }\n",
              "\n",
              "    .dataframe tbody tr th {\n",
              "        vertical-align: top;\n",
              "    }\n",
              "\n",
              "    .dataframe thead th {\n",
              "        text-align: right;\n",
              "    }\n",
              "</style>\n",
              "<table border=\"1\" class=\"dataframe\">\n",
              "  <thead>\n",
              "    <tr style=\"text-align: right;\">\n",
              "      <th></th>\n",
              "      <th>ride_id</th>\n",
              "      <th>rideable_type</th>\n",
              "      <th>started_at</th>\n",
              "      <th>ended_at</th>\n",
              "      <th>start_station_name</th>\n",
              "      <th>start_station_id</th>\n",
              "      <th>end_station_name</th>\n",
              "      <th>end_station_id</th>\n",
              "      <th>start_lat</th>\n",
              "      <th>start_lng</th>\n",
              "      <th>end_lat</th>\n",
              "      <th>end_lng</th>\n",
              "      <th>member_casual</th>\n",
              "      <th>duration_min</th>\n",
              "      <th>day_of_week</th>\n",
              "      <th>hour</th>\n",
              "      <th>month</th>\n",
              "    </tr>\n",
              "  </thead>\n",
              "  <tbody>\n",
              "    <tr>\n",
              "      <th>0</th>\n",
              "      <td>C1D650626C8C899A</td>\n",
              "      <td>electric_bike</td>\n",
              "      <td>2024-01-12 15:30:27</td>\n",
              "      <td>2024-01-12 15:37:59</td>\n",
              "      <td>Wells St &amp; Elm St</td>\n",
              "      <td>KA1504000135</td>\n",
              "      <td>Kingsbury St &amp; Kinzie St</td>\n",
              "      <td>KA1503000043</td>\n",
              "      <td>41.903267</td>\n",
              "      <td>-87.634737</td>\n",
              "      <td>41.889177</td>\n",
              "      <td>-87.638506</td>\n",
              "      <td>member</td>\n",
              "      <td>7.533333</td>\n",
              "      <td>Friday</td>\n",
              "      <td>15</td>\n",
              "      <td>January</td>\n",
              "    </tr>\n",
              "    <tr>\n",
              "      <th>1</th>\n",
              "      <td>EECD38BDB25BFCB0</td>\n",
              "      <td>electric_bike</td>\n",
              "      <td>2024-01-08 15:45:46</td>\n",
              "      <td>2024-01-08 15:52:59</td>\n",
              "      <td>Wells St &amp; Elm St</td>\n",
              "      <td>KA1504000135</td>\n",
              "      <td>Kingsbury St &amp; Kinzie St</td>\n",
              "      <td>KA1503000043</td>\n",
              "      <td>41.902937</td>\n",
              "      <td>-87.634440</td>\n",
              "      <td>41.889177</td>\n",
              "      <td>-87.638506</td>\n",
              "      <td>member</td>\n",
              "      <td>7.216667</td>\n",
              "      <td>Monday</td>\n",
              "      <td>15</td>\n",
              "      <td>January</td>\n",
              "    </tr>\n",
              "    <tr>\n",
              "      <th>2</th>\n",
              "      <td>F4A9CE78061F17F7</td>\n",
              "      <td>electric_bike</td>\n",
              "      <td>2024-01-27 12:27:19</td>\n",
              "      <td>2024-01-27 12:35:19</td>\n",
              "      <td>Wells St &amp; Elm St</td>\n",
              "      <td>KA1504000135</td>\n",
              "      <td>Kingsbury St &amp; Kinzie St</td>\n",
              "      <td>KA1503000043</td>\n",
              "      <td>41.902951</td>\n",
              "      <td>-87.634470</td>\n",
              "      <td>41.889177</td>\n",
              "      <td>-87.638506</td>\n",
              "      <td>member</td>\n",
              "      <td>8.000000</td>\n",
              "      <td>Saturday</td>\n",
              "      <td>12</td>\n",
              "      <td>January</td>\n",
              "    </tr>\n",
              "    <tr>\n",
              "      <th>3</th>\n",
              "      <td>0A0D9E15EE50B171</td>\n",
              "      <td>classic_bike</td>\n",
              "      <td>2024-01-29 16:26:17</td>\n",
              "      <td>2024-01-29 16:56:06</td>\n",
              "      <td>Wells St &amp; Randolph St</td>\n",
              "      <td>TA1305000030</td>\n",
              "      <td>Larrabee St &amp; Webster Ave</td>\n",
              "      <td>13193</td>\n",
              "      <td>41.884295</td>\n",
              "      <td>-87.633963</td>\n",
              "      <td>41.921822</td>\n",
              "      <td>-87.644140</td>\n",
              "      <td>member</td>\n",
              "      <td>29.816667</td>\n",
              "      <td>Monday</td>\n",
              "      <td>16</td>\n",
              "      <td>January</td>\n",
              "    </tr>\n",
              "    <tr>\n",
              "      <th>4</th>\n",
              "      <td>33FFC9805E3EFF9A</td>\n",
              "      <td>classic_bike</td>\n",
              "      <td>2024-01-31 05:43:23</td>\n",
              "      <td>2024-01-31 06:09:35</td>\n",
              "      <td>Lincoln Ave &amp; Waveland Ave</td>\n",
              "      <td>13253</td>\n",
              "      <td>Kingsbury St &amp; Kinzie St</td>\n",
              "      <td>KA1503000043</td>\n",
              "      <td>41.948797</td>\n",
              "      <td>-87.675278</td>\n",
              "      <td>41.889177</td>\n",
              "      <td>-87.638506</td>\n",
              "      <td>member</td>\n",
              "      <td>26.200000</td>\n",
              "      <td>Wednesday</td>\n",
              "      <td>5</td>\n",
              "      <td>January</td>\n",
              "    </tr>\n",
              "    <tr>\n",
              "      <th>5</th>\n",
              "      <td>C96080812CD285C5</td>\n",
              "      <td>classic_bike</td>\n",
              "      <td>2024-01-07 11:21:24</td>\n",
              "      <td>2024-01-07 11:30:03</td>\n",
              "      <td>Wells St &amp; Elm St</td>\n",
              "      <td>KA1504000135</td>\n",
              "      <td>Kingsbury St &amp; Kinzie St</td>\n",
              "      <td>KA1503000043</td>\n",
              "      <td>41.903222</td>\n",
              "      <td>-87.634324</td>\n",
              "      <td>41.889177</td>\n",
              "      <td>-87.638506</td>\n",
              "      <td>member</td>\n",
              "      <td>8.650000</td>\n",
              "      <td>Sunday</td>\n",
              "      <td>11</td>\n",
              "      <td>January</td>\n",
              "    </tr>\n",
              "    <tr>\n",
              "      <th>6</th>\n",
              "      <td>0EA7CB313D4F456A</td>\n",
              "      <td>classic_bike</td>\n",
              "      <td>2024-01-05 14:44:12</td>\n",
              "      <td>2024-01-05 14:53:06</td>\n",
              "      <td>Wells St &amp; Elm St</td>\n",
              "      <td>KA1504000135</td>\n",
              "      <td>Kingsbury St &amp; Kinzie St</td>\n",
              "      <td>KA1503000043</td>\n",
              "      <td>41.903222</td>\n",
              "      <td>-87.634324</td>\n",
              "      <td>41.889177</td>\n",
              "      <td>-87.638506</td>\n",
              "      <td>member</td>\n",
              "      <td>8.900000</td>\n",
              "      <td>Friday</td>\n",
              "      <td>14</td>\n",
              "      <td>January</td>\n",
              "    </tr>\n",
              "    <tr>\n",
              "      <th>7</th>\n",
              "      <td>EE11F3A3B39CFBD8</td>\n",
              "      <td>electric_bike</td>\n",
              "      <td>2024-01-04 18:19:53</td>\n",
              "      <td>2024-01-04 18:28:04</td>\n",
              "      <td>Wells St &amp; Elm St</td>\n",
              "      <td>KA1504000135</td>\n",
              "      <td>Kingsbury St &amp; Kinzie St</td>\n",
              "      <td>KA1503000043</td>\n",
              "      <td>41.903368</td>\n",
              "      <td>-87.634861</td>\n",
              "      <td>41.889177</td>\n",
              "      <td>-87.638506</td>\n",
              "      <td>member</td>\n",
              "      <td>8.183333</td>\n",
              "      <td>Thursday</td>\n",
              "      <td>18</td>\n",
              "      <td>January</td>\n",
              "    </tr>\n",
              "    <tr>\n",
              "      <th>8</th>\n",
              "      <td>63E83DE8E3279F15</td>\n",
              "      <td>classic_bike</td>\n",
              "      <td>2024-01-01 14:46:53</td>\n",
              "      <td>2024-01-01 14:57:02</td>\n",
              "      <td>Wells St &amp; Elm St</td>\n",
              "      <td>KA1504000135</td>\n",
              "      <td>Kingsbury St &amp; Kinzie St</td>\n",
              "      <td>KA1503000043</td>\n",
              "      <td>41.903222</td>\n",
              "      <td>-87.634324</td>\n",
              "      <td>41.889177</td>\n",
              "      <td>-87.638506</td>\n",
              "      <td>member</td>\n",
              "      <td>10.150000</td>\n",
              "      <td>Monday</td>\n",
              "      <td>14</td>\n",
              "      <td>January</td>\n",
              "    </tr>\n",
              "    <tr>\n",
              "      <th>9</th>\n",
              "      <td>8005682869122D93</td>\n",
              "      <td>electric_bike</td>\n",
              "      <td>2024-01-03 19:31:08</td>\n",
              "      <td>2024-01-03 19:40:05</td>\n",
              "      <td>Clark St &amp; Ida B Wells Dr</td>\n",
              "      <td>TA1305000009</td>\n",
              "      <td>Kingsbury St &amp; Kinzie St</td>\n",
              "      <td>KA1503000043</td>\n",
              "      <td>41.876033</td>\n",
              "      <td>-87.630866</td>\n",
              "      <td>41.889177</td>\n",
              "      <td>-87.638506</td>\n",
              "      <td>member</td>\n",
              "      <td>8.950000</td>\n",
              "      <td>Wednesday</td>\n",
              "      <td>19</td>\n",
              "      <td>January</td>\n",
              "    </tr>\n",
              "  </tbody>\n",
              "</table>\n",
              "</div>\n",
              "    <div class=\"colab-df-buttons\">\n",
              "\n",
              "  <div class=\"colab-df-container\">\n",
              "    <button class=\"colab-df-convert\" onclick=\"convertToInteractive('df-632e46c5-8ee5-4aa5-ac14-b1b7b1b0f565')\"\n",
              "            title=\"Convert this dataframe to an interactive table.\"\n",
              "            style=\"display:none;\">\n",
              "\n",
              "  <svg xmlns=\"http://www.w3.org/2000/svg\" height=\"24px\" viewBox=\"0 -960 960 960\">\n",
              "    <path d=\"M120-120v-720h720v720H120Zm60-500h600v-160H180v160Zm220 220h160v-160H400v160Zm0 220h160v-160H400v160ZM180-400h160v-160H180v160Zm440 0h160v-160H620v160ZM180-180h160v-160H180v160Zm440 0h160v-160H620v160Z\"/>\n",
              "  </svg>\n",
              "    </button>\n",
              "\n",
              "  <style>\n",
              "    .colab-df-container {\n",
              "      display:flex;\n",
              "      gap: 12px;\n",
              "    }\n",
              "\n",
              "    .colab-df-convert {\n",
              "      background-color: #E8F0FE;\n",
              "      border: none;\n",
              "      border-radius: 50%;\n",
              "      cursor: pointer;\n",
              "      display: none;\n",
              "      fill: #1967D2;\n",
              "      height: 32px;\n",
              "      padding: 0 0 0 0;\n",
              "      width: 32px;\n",
              "    }\n",
              "\n",
              "    .colab-df-convert:hover {\n",
              "      background-color: #E2EBFA;\n",
              "      box-shadow: 0px 1px 2px rgba(60, 64, 67, 0.3), 0px 1px 3px 1px rgba(60, 64, 67, 0.15);\n",
              "      fill: #174EA6;\n",
              "    }\n",
              "\n",
              "    .colab-df-buttons div {\n",
              "      margin-bottom: 4px;\n",
              "    }\n",
              "\n",
              "    [theme=dark] .colab-df-convert {\n",
              "      background-color: #3B4455;\n",
              "      fill: #D2E3FC;\n",
              "    }\n",
              "\n",
              "    [theme=dark] .colab-df-convert:hover {\n",
              "      background-color: #434B5C;\n",
              "      box-shadow: 0px 1px 3px 1px rgba(0, 0, 0, 0.15);\n",
              "      filter: drop-shadow(0px 1px 2px rgba(0, 0, 0, 0.3));\n",
              "      fill: #FFFFFF;\n",
              "    }\n",
              "  </style>\n",
              "\n",
              "    <script>\n",
              "      const buttonEl =\n",
              "        document.querySelector('#df-632e46c5-8ee5-4aa5-ac14-b1b7b1b0f565 button.colab-df-convert');\n",
              "      buttonEl.style.display =\n",
              "        google.colab.kernel.accessAllowed ? 'block' : 'none';\n",
              "\n",
              "      async function convertToInteractive(key) {\n",
              "        const element = document.querySelector('#df-632e46c5-8ee5-4aa5-ac14-b1b7b1b0f565');\n",
              "        const dataTable =\n",
              "          await google.colab.kernel.invokeFunction('convertToInteractive',\n",
              "                                                    [key], {});\n",
              "        if (!dataTable) return;\n",
              "\n",
              "        const docLinkHtml = 'Like what you see? Visit the ' +\n",
              "          '<a target=\"_blank\" href=https://colab.research.google.com/notebooks/data_table.ipynb>data table notebook</a>'\n",
              "          + ' to learn more about interactive tables.';\n",
              "        element.innerHTML = '';\n",
              "        dataTable['output_type'] = 'display_data';\n",
              "        await google.colab.output.renderOutput(dataTable, element);\n",
              "        const docLink = document.createElement('div');\n",
              "        docLink.innerHTML = docLinkHtml;\n",
              "        element.appendChild(docLink);\n",
              "      }\n",
              "    </script>\n",
              "  </div>\n",
              "\n",
              "\n",
              "    <div id=\"df-39045260-8d43-4457-8560-ac9666e8386a\">\n",
              "      <button class=\"colab-df-quickchart\" onclick=\"quickchart('df-39045260-8d43-4457-8560-ac9666e8386a')\"\n",
              "                title=\"Suggest charts\"\n",
              "                style=\"display:none;\">\n",
              "\n",
              "<svg xmlns=\"http://www.w3.org/2000/svg\" height=\"24px\"viewBox=\"0 0 24 24\"\n",
              "     width=\"24px\">\n",
              "    <g>\n",
              "        <path d=\"M19 3H5c-1.1 0-2 .9-2 2v14c0 1.1.9 2 2 2h14c1.1 0 2-.9 2-2V5c0-1.1-.9-2-2-2zM9 17H7v-7h2v7zm4 0h-2V7h2v10zm4 0h-2v-4h2v4z\"/>\n",
              "    </g>\n",
              "</svg>\n",
              "      </button>\n",
              "\n",
              "<style>\n",
              "  .colab-df-quickchart {\n",
              "      --bg-color: #E8F0FE;\n",
              "      --fill-color: #1967D2;\n",
              "      --hover-bg-color: #E2EBFA;\n",
              "      --hover-fill-color: #174EA6;\n",
              "      --disabled-fill-color: #AAA;\n",
              "      --disabled-bg-color: #DDD;\n",
              "  }\n",
              "\n",
              "  [theme=dark] .colab-df-quickchart {\n",
              "      --bg-color: #3B4455;\n",
              "      --fill-color: #D2E3FC;\n",
              "      --hover-bg-color: #434B5C;\n",
              "      --hover-fill-color: #FFFFFF;\n",
              "      --disabled-bg-color: #3B4455;\n",
              "      --disabled-fill-color: #666;\n",
              "  }\n",
              "\n",
              "  .colab-df-quickchart {\n",
              "    background-color: var(--bg-color);\n",
              "    border: none;\n",
              "    border-radius: 50%;\n",
              "    cursor: pointer;\n",
              "    display: none;\n",
              "    fill: var(--fill-color);\n",
              "    height: 32px;\n",
              "    padding: 0;\n",
              "    width: 32px;\n",
              "  }\n",
              "\n",
              "  .colab-df-quickchart:hover {\n",
              "    background-color: var(--hover-bg-color);\n",
              "    box-shadow: 0 1px 2px rgba(60, 64, 67, 0.3), 0 1px 3px 1px rgba(60, 64, 67, 0.15);\n",
              "    fill: var(--button-hover-fill-color);\n",
              "  }\n",
              "\n",
              "  .colab-df-quickchart-complete:disabled,\n",
              "  .colab-df-quickchart-complete:disabled:hover {\n",
              "    background-color: var(--disabled-bg-color);\n",
              "    fill: var(--disabled-fill-color);\n",
              "    box-shadow: none;\n",
              "  }\n",
              "\n",
              "  .colab-df-spinner {\n",
              "    border: 2px solid var(--fill-color);\n",
              "    border-color: transparent;\n",
              "    border-bottom-color: var(--fill-color);\n",
              "    animation:\n",
              "      spin 1s steps(1) infinite;\n",
              "  }\n",
              "\n",
              "  @keyframes spin {\n",
              "    0% {\n",
              "      border-color: transparent;\n",
              "      border-bottom-color: var(--fill-color);\n",
              "      border-left-color: var(--fill-color);\n",
              "    }\n",
              "    20% {\n",
              "      border-color: transparent;\n",
              "      border-left-color: var(--fill-color);\n",
              "      border-top-color: var(--fill-color);\n",
              "    }\n",
              "    30% {\n",
              "      border-color: transparent;\n",
              "      border-left-color: var(--fill-color);\n",
              "      border-top-color: var(--fill-color);\n",
              "      border-right-color: var(--fill-color);\n",
              "    }\n",
              "    40% {\n",
              "      border-color: transparent;\n",
              "      border-right-color: var(--fill-color);\n",
              "      border-top-color: var(--fill-color);\n",
              "    }\n",
              "    60% {\n",
              "      border-color: transparent;\n",
              "      border-right-color: var(--fill-color);\n",
              "    }\n",
              "    80% {\n",
              "      border-color: transparent;\n",
              "      border-right-color: var(--fill-color);\n",
              "      border-bottom-color: var(--fill-color);\n",
              "    }\n",
              "    90% {\n",
              "      border-color: transparent;\n",
              "      border-bottom-color: var(--fill-color);\n",
              "    }\n",
              "  }\n",
              "</style>\n",
              "\n",
              "      <script>\n",
              "        async function quickchart(key) {\n",
              "          const quickchartButtonEl =\n",
              "            document.querySelector('#' + key + ' button');\n",
              "          quickchartButtonEl.disabled = true;  // To prevent multiple clicks.\n",
              "          quickchartButtonEl.classList.add('colab-df-spinner');\n",
              "          try {\n",
              "            const charts = await google.colab.kernel.invokeFunction(\n",
              "                'suggestCharts', [key], {});\n",
              "          } catch (error) {\n",
              "            console.error('Error during call to suggestCharts:', error);\n",
              "          }\n",
              "          quickchartButtonEl.classList.remove('colab-df-spinner');\n",
              "          quickchartButtonEl.classList.add('colab-df-quickchart-complete');\n",
              "        }\n",
              "        (() => {\n",
              "          let quickchartButtonEl =\n",
              "            document.querySelector('#df-39045260-8d43-4457-8560-ac9666e8386a button');\n",
              "          quickchartButtonEl.style.display =\n",
              "            google.colab.kernel.accessAllowed ? 'block' : 'none';\n",
              "        })();\n",
              "      </script>\n",
              "    </div>\n",
              "\n",
              "    </div>\n",
              "  </div>\n"
            ],
            "application/vnd.google.colaboratory.intrinsic+json": {
              "type": "dataframe",
              "variable_name": "df_clean"
            }
          },
          "metadata": {},
          "execution_count": 13
        }
      ]
    },
    {
      "cell_type": "code",
      "source": [
        "df_clean.shape"
      ],
      "metadata": {
        "id": "r8R0FogxVhop",
        "colab": {
          "base_uri": "https://localhost:8080/"
        },
        "outputId": "8a0aaf7d-de0d-4903-e1df-d3ddf974cd26"
      },
      "execution_count": 14,
      "outputs": [
        {
          "output_type": "execute_result",
          "data": {
            "text/plain": [
              "(5853336, 17)"
            ]
          },
          "metadata": {},
          "execution_count": 14
        }
      ]
    },
    {
      "cell_type": "markdown",
      "source": [
        "## 4. Monthly Trends\n",
        "\n",
        "We analyze the total trips per month to identify seasonal usage patterns.\n",
        "**Key insight**: Bike usage peaks in the summer months (June-September) and decreases in winter."
      ],
      "metadata": {
        "id": "qnYQcie7VpMC"
      }
    },
    {
      "cell_type": "code",
      "source": [
        "print(\"Total Trips:\", len(df_clean))\n",
        "print(\"Average duration (minute):\", df_clean['duration_min'].mean())\n",
        "print(\"Median duration (minute):\", df_clean['duration_min'].median())\n",
        "print(df_clean['member_casual'].value_counts())"
      ],
      "metadata": {
        "id": "pc7d8GPmVq0F",
        "colab": {
          "base_uri": "https://localhost:8080/"
        },
        "outputId": "92b0d963-1312-46a3-f95d-cbcf124aebe0"
      },
      "execution_count": 15,
      "outputs": [
        {
          "output_type": "stream",
          "name": "stdout",
          "text": [
            "Total Trips: 5853336\n",
            "Average duration (minute): 15.483907080224563\n",
            "Median duration (minute): 9.7\n",
            "member_casual\n",
            "member    3707559\n",
            "casual    2145777\n",
            "Name: count, dtype: int64\n"
          ]
        }
      ]
    },
    {
      "cell_type": "code",
      "source": [
        "month_order = [\n",
        "    \"January\", \"February\", \"March\",\n",
        "    \"April\", \"May\", \"June\", \"July\",\n",
        "    \"August\", \"September\", \"October\",\n",
        "    \"November\", \"December\"\n",
        "]\n",
        "\n",
        "df_clean['month'] = pd.Categorical(\n",
        "    df_clean['month'],\n",
        "    categories=month_order,\n",
        "    ordered=True\n",
        ")\n",
        "\n",
        "trips_per_month_trend = df_clean.groupby('month', observed=False).size().reset_index(name='total_trips')\n",
        "\n",
        "print(trips_per_month_trend)"
      ],
      "metadata": {
        "id": "rNeMT4rizHth",
        "colab": {
          "base_uri": "https://localhost:8080/"
        },
        "outputId": "008bf723-afac-4633-994f-2e0f81a93f65"
      },
      "execution_count": 16,
      "outputs": [
        {
          "output_type": "stream",
          "name": "stdout",
          "text": [
            "        month  total_trips\n",
            "0     January       144585\n",
            "1    February       222846\n",
            "2       March       301291\n",
            "3       April       414546\n",
            "4         May       608880\n",
            "5        June       709606\n",
            "6        July       747867\n",
            "7      August       754826\n",
            "8   September       820164\n",
            "9     October       615715\n",
            "10   November       334777\n",
            "11   December       178233\n"
          ]
        }
      ]
    },
    {
      "cell_type": "markdown",
      "source": [
        " Trend Trips per Month Line Chart"
      ],
      "metadata": {
        "id": "AKAzJAMWdVoO"
      }
    },
    {
      "cell_type": "code",
      "source": [
        "plt.figure(figsize=(10,5))\n",
        "plt.plot(trips_per_month_trend['month'], trips_per_month_trend['total_trips'], marker='o')\n",
        "\n",
        "plt.title(\"Trend Trips per Month\")\n",
        "plt.xlabel(\"Month\")\n",
        "plt.ylabel(\"Total Trips\")\n",
        "plt.xticks(rotation=45)\n",
        "plt.grid(True)\n",
        "\n",
        "plt.savefig(\"trend_trips_per_month.png\", dpi=300, bbox_inches='tight')\n",
        "\n",
        "plt.show()\n"
      ],
      "metadata": {
        "colab": {
          "base_uri": "https://localhost:8080/",
          "height": 551
        },
        "id": "lGbsPaIp1xJU",
        "outputId": "15f35f42-bf40-4cb1-d068-6243ec850b79"
      },
      "execution_count": 17,
      "outputs": [
        {
          "output_type": "display_data",
          "data": {
            "text/plain": [
              "<Figure size 1000x500 with 1 Axes>"
            ],
            "image/png": "[encoded data removed]"
          },
          "metadata": {}
        }
      ]
    },
    {
      "cell_type": "markdown",
      "source": [
        "Trips per month from highest to lowest"
      ],
      "metadata": {
        "id": "ZzDJ8_tSJVFQ"
      }
    },
    {
      "cell_type": "code",
      "source": [
        "trips_per_month = df_clean.groupby('month', observed=False).size().sort_values(ascending=False)\n",
        "print(trips_per_month)"
      ],
      "metadata": {
        "id": "mMJy_hjxW6SA",
        "colab": {
          "base_uri": "https://localhost:8080/"
        },
        "outputId": "38f3fd3b-9243-4159-d015-4d2776bb3649"
      },
      "execution_count": 18,
      "outputs": [
        {
          "output_type": "stream",
          "name": "stdout",
          "text": [
            "month\n",
            "September    820164\n",
            "August       754826\n",
            "July         747867\n",
            "June         709606\n",
            "October      615715\n",
            "May          608880\n",
            "April        414546\n",
            "November     334777\n",
            "March        301291\n",
            "February     222846\n",
            "December     178233\n",
            "January      144585\n",
            "dtype: int64\n"
          ]
        }
      ]
    },
    {
      "cell_type": "markdown",
      "source": [
        "Trips per Month Bar Chart"
      ],
      "metadata": {
        "id": "4rae6YtleCF2"
      }
    },
    {
      "cell_type": "code",
      "source": [
        "trips_per_month.plot(kind='bar', figsize=(10,6), title = \"Total Trips per Month\")\n",
        "plt.ylabel(\"Total Trips\")\n",
        "plt.xlabel('Month')\n",
        "plt.xticks(rotation=45)\n",
        "\n",
        "plt.savefig(\"total_trips_per_month.png\", dpi=300, bbox_inches='tight')\n",
        "plt.show()"
      ],
      "metadata": {
        "id": "W7nzA1sgXl48",
        "colab": {
          "base_uri": "https://localhost:8080/",
          "height": 628
        },
        "outputId": "9032cf52-4501-4b01-b4f2-b296c3dd02c7"
      },
      "execution_count": 28,
      "outputs": [
        {
          "output_type": "display_data",
          "data": {
            "text/plain": [
              "<Figure size 1000x600 with 1 Axes>"
            ],
            "image/png": "[encoded data removed]"
          },
          "metadata": {}
        }
      ]
    },
    {
      "cell_type": "markdown",
      "source": [
        "## 5. Daily and Weekly Patterns\n",
        "\n",
        "We explore:\n",
        "-  Daily Distribution of trips\n",
        "-  Usage by day of the week\n",
        "**Key insight**: Weekends tend to show higher casual usage, while weekdays are dominated by members\n",
        "\n"
      ],
      "metadata": {
        "id": "Fo5753Jqea1W"
      }
    },
    {
      "cell_type": "code",
      "source": [
        "order_days = ['Monday', 'Tuesday', 'Wednesday', 'Thursday', 'Friday', 'Saturday', 'Sunday']\n",
        "trips_per_day = df_clean['day_of_week'].value_counts().reindex(order_days)\n",
        "print(trips_per_day)\n",
        "\n",
        "trips_per_day.plot(kind='bar', figsize=(8,5), title=\"Daily Trips\")\n",
        "plt.ylabel(\"Trips\")\n",
        "plt.xlabel(\"Day\")\n",
        "plt.xticks(rotation=45)\n",
        "plt.savefig(\"total_trips_per_day.png\", dpi=300, bbox_inches='tight')\n",
        "\n",
        "plt.show()"
      ],
      "metadata": {
        "id": "Z6aYexUzYEUt",
        "colab": {
          "base_uri": "https://localhost:8080/",
          "height": 710
        },
        "outputId": "86f933e3-8a8c-4d03-e94e-0e50a41e3f4d"
      },
      "execution_count": 29,
      "outputs": [
        {
          "output_type": "stream",
          "name": "stdout",
          "text": [
            "day_of_week\n",
            "Monday       787368\n",
            "Tuesday      802332\n",
            "Wednesday    878752\n",
            "Thursday     834858\n",
            "Friday       840634\n",
            "Saturday     923643\n",
            "Sunday       785749\n",
            "Name: count, dtype: int64\n"
          ]
        },
        {
          "output_type": "display_data",
          "data": {
            "text/plain": [
              "<Figure size 800x500 with 1 Axes>"
            ],
            "image/png": "[encoded data removed]"
          },
          "metadata": {}
        }
      ]
    },
    {
      "cell_type": "markdown",
      "source": [
        "## 6. Hourly Trends\n",
        "\n",
        "We check trip counts by hour of the day\n",
        "**Key insight**: There are two main peaks - morning (commuting hours) and evening"
      ],
      "metadata": {
        "id": "TI7xoQb9gY94"
      }
    },
    {
      "cell_type": "code",
      "source": [
        "trips_per_hour = df_clean['hour'].value_counts().sort_index()\n",
        "print(trips_per_hour)\n",
        "trips_per_hour.plot(kind='line', figsize=(12,7), marker='o', title=\"Hourly Trips\")\n",
        "plt.ylabel(\"Trips\")\n",
        "plt.xlabel(\"Hour (0-23)\")\n",
        "\n",
        "plt.savefig(\"trips_per_hour.png\", dpi=300, bbox_inches='tight')\n",
        "\n",
        "plt.show()"
      ],
      "metadata": {
        "id": "eCtDvwcZZoYX",
        "colab": {
          "base_uri": "https://localhost:8080/",
          "height": 1000
        },
        "outputId": "b6491625-b816-4209-ddaa-c716a04f41c1"
      },
      "execution_count": 21,
      "outputs": [
        {
          "output_type": "stream",
          "name": "stdout",
          "text": [
            "hour\n",
            "0      68024\n",
            "1      43690\n",
            "2      26027\n",
            "3      15958\n",
            "4      15115\n",
            "5      46705\n",
            "6     132732\n",
            "7     253771\n",
            "8     330903\n",
            "9     250272\n",
            "10    247448\n",
            "11    298985\n",
            "12    346743\n",
            "13    352749\n",
            "14    359278\n",
            "15    420830\n",
            "16    533964\n",
            "17    596584\n",
            "18    480117\n",
            "19    343012\n",
            "20    244363\n",
            "21    193667\n",
            "22    151889\n",
            "23    100510\n",
            "Name: count, dtype: int64\n"
          ]
        },
        {
          "output_type": "display_data",
          "data": {
            "text/plain": [
              "<Figure size 1200x700 with 1 Axes>"
            ],
            "image/png": "[encoded data removed]"
          },
          "metadata": {}
        }
      ]
    },
    {
      "cell_type": "markdown",
      "source": [
        "## 7. Member vs Casual Comparison\n",
        "\n",
        "We compare members and casual users based on two aspects:\n",
        "1.   **Total Trips**:\n",
        "     Members contribute a significantly higher number of trips compared to casual riders. This reflects the regular commuting behaviour of members.\n",
        "2.   **Average Trip Duration**:\n",
        "     Casual rider tend to have longer trip duration than members. This suggests that casual users often ride for leisure or tourism, while members use bike mainly for commuting. The bar charts below highlight this differences clearly.\n",
        "\n",
        "\n",
        "\n",
        "\n"
      ],
      "metadata": {
        "id": "IhLnT98khVPX"
      }
    },
    {
      "cell_type": "markdown",
      "source": [
        "#### Total trips casual vs member"
      ],
      "metadata": {
        "id": "0kzEYVmylxFf"
      }
    },
    {
      "cell_type": "code",
      "source": [
        "total_trips= df_clean.groupby('member_casual').size().reset_index(name='total_trips')\n",
        "print(total_trips)\n",
        "\n",
        "plt.figure(figsize=(6,4))\n",
        "plt.bar(total_trips['member_casual'], total_trips['total_trips'], color=['#1f77b4','#ff7f0e'])\n",
        "plt.title(\"Total Trips by User Type (2024)\")\n",
        "plt.xlabel(\"User Type\")\n",
        "plt.ylabel(\"Total Trips\")\n",
        "\n",
        "plt.savefig(\"Total_trips_by_user.png\", dpi=300, bbox_inches='tight')\n",
        "\n",
        "plt.show()\n"
      ],
      "metadata": {
        "id": "140waaD1a0iI",
        "colab": {
          "base_uri": "https://localhost:8080/",
          "height": 471
        },
        "outputId": "4c16c657-b129-4958-f576-c8392cd8ec74"
      },
      "execution_count": 22,
      "outputs": [
        {
          "output_type": "stream",
          "name": "stdout",
          "text": [
            "  member_casual  total_trips\n",
            "0        casual      2145777\n",
            "1        member      3707559\n"
          ]
        },
        {
          "output_type": "display_data",
          "data": {
            "text/plain": [
              "<Figure size 600x400 with 1 Axes>"
            ],
            "image/png": "[encoded data removed]"
          },
          "metadata": {}
        }
      ]
    },
    {
      "cell_type": "markdown",
      "source": [
        "#### Average Trip Duration Casual vs Member"
      ],
      "metadata": {
        "id": "kd2fHuiOlhb1"
      }
    },
    {
      "cell_type": "code",
      "source": [
        "avg_duration = df_clean.groupby('member_casual')['duration_min'].mean().reset_index()\n",
        "print(avg_duration)\n",
        "plt.figure(figsize=(6,4))\n",
        "plt.bar(avg_duration['member_casual'], avg_duration['duration_min'], color=['#1f77b4','#ff7f0e'])\n",
        "plt.title(\"Average Trip Duration per User Type (minutes)\")\n",
        "plt.xlabel(\"User Type\")\n",
        "plt.ylabel(\"Average Duration (minutes)\")\n",
        "\n",
        "plt.savefig(\"Average_trip_duration_per_user_type.png\", dpi=300, bbox_inches='tight')\n",
        "\n",
        "plt.show()\n"
      ],
      "metadata": {
        "id": "LgF3oabscVHl",
        "colab": {
          "base_uri": "https://localhost:8080/",
          "height": 471
        },
        "outputId": "49808e75-a130-4ab5-c27f-5ead7454373e"
      },
      "execution_count": 25,
      "outputs": [
        {
          "output_type": "stream",
          "name": "stdout",
          "text": [
            "  member_casual  duration_min\n",
            "0        casual     21.108979\n",
            "1        member     12.228356\n"
          ]
        },
        {
          "output_type": "display_data",
          "data": {
            "text/plain": [
              "<Figure size 600x400 with 1 Axes>"
            ],
            "image/png": "[encoded data removed]"
          },
          "metadata": {}
        }
      ]
    },
    {
      "cell_type": "markdown",
      "source": [
        "## 8. Heatmap (Day vs Hour)\n",
        "\n",
        "We generate a heatmap to visualize the intensity of rides across days days of the week and hours of the day."
      ],
      "metadata": {
        "id": "R0T0lwIwn11q"
      }
    },
    {
      "cell_type": "code",
      "source": [
        "heatmap_data = df_clean.groupby(['day_of_week', 'hour']).size().unstack(fill_value=0).reindex(order_days)\n",
        "plt.figure(figsize=(14,6))\n",
        "sns.heatmap(heatmap_data, cmap=\"YlGnBu\")\n",
        "plt.title(\"Trips Heatmap (Day vs Hour)\")\n",
        "plt.xlabel(\"Hour\")\n",
        "plt.ylabel(\"Day\")\n",
        "\n",
        "plt.savefig(\"Trips_Heatmap.png\", dpi=300, bbox_inches='tight')\n",
        "\n",
        "plt.show()"
      ],
      "metadata": {
        "id": "7VQg3SxudWky",
        "colab": {
          "base_uri": "https://localhost:8080/",
          "height": 573
        },
        "outputId": "f90b1008-2efa-4fd4-cdb0-90913998cf24"
      },
      "execution_count": 26,
      "outputs": [
        {
          "output_type": "display_data",
          "data": {
            "text/plain": [
              "<Figure size 1400x600 with 2 Axes>"
            ],
            "image/png": "[encoded data removed]"
          },
          "metadata": {}
        }
      ]
    },
    {
      "cell_type": "markdown",
      "source": [
        "## 9. Preparing Summary  Datasets for Tableau\n",
        "\n",
        "We export three summary datasets:\n",
        "- 'monthly_summary.csv' ➡ trips per month\n",
        "- 'member_summary.csv' ➡ member vs casual comparison\n",
        "- 'heatmap_summary.csv' ➡ rides by day and hour\n",
        "\n",
        "These datasets are ready to be used in Tableau for interactive dashboards."
      ],
      "metadata": {
        "id": "sab6ymY_pUGE"
      }
    },
    {
      "cell_type": "code",
      "source": [
        "monthly_summary = df_clean.groupby('month', observed=False).size().reset_index(name='total_trips')\n",
        "\n",
        "month_map = {\n",
        "    \"January\":1, \"February\":2, \"March\":3, \"April\":4, \"May\":5, \"June\":6, \"July\":7, \"August\":8, \"September\":9,\n",
        "    \"October\":10, \"November\":11, \"December\":12\n",
        "}\n",
        "\n",
        "monthly_summary['month_num'] = monthly_summary['month'].map(month_map)\n",
        "\n",
        "monthly_summary = monthly_summary.sort_values('month_num')\n",
        "\n",
        "monthly_summary.to_csv(\"monthly_summary.csv\", index=False)\n",
        "\n",
        "print(monthly_summary.head())"
      ],
      "metadata": {
        "id": "sFwK6Rzpe3eV",
        "colab": {
          "base_uri": "https://localhost:8080/"
        },
        "outputId": "4f9511c0-e33e-46be-ca7f-f10bf6c5b086"
      },
      "execution_count": null,
      "outputs": [
        {
          "output_type": "stream",
          "name": "stdout",
          "text": [
            "      month  total_trips month_num\n",
            "0   January       144585         1\n",
            "1  February       222846         2\n",
            "2     March       301291         3\n",
            "3     April       414546         4\n",
            "4       May       608880         5\n"
          ]
        }
      ]
    },
    {
      "cell_type": "code",
      "source": [
        "member_summary = df_clean.groupby('member_casual').agg(\n",
        "    total_trips = ('ride_id', 'count'),\n",
        "    avg_duration = ('duration_min', 'mean')\n",
        ").reset_index()\n",
        "\n",
        "member_summary.to_csv(\"member_summary.csv\", index=False)\n",
        "\n",
        "print(member_summary.head())"
      ],
      "metadata": {
        "id": "PPNiJowjfMBs",
        "colab": {
          "base_uri": "https://localhost:8080/"
        },
        "outputId": "fad12ab0-a8ff-45ef-89ad-d11b3fb9342e"
      },
      "execution_count": null,
      "outputs": [
        {
          "output_type": "stream",
          "name": "stdout",
          "text": [
            "  member_casual  total_trips  avg_duration\n",
            "0        casual      2145777     21.108979\n",
            "1        member      3707559     12.228356\n"
          ]
        }
      ]
    },
    {
      "cell_type": "code",
      "source": [
        "heatmap_summary = df_clean.groupby(['day_of_week', 'hour']).size().reset_index(name='total_trips')\n",
        "\n",
        "heatmap_summary.to_csv(\"heatmap_summary.csv\", index=False)\n",
        "\n",
        "print(heatmap_summary.head())\n"
      ],
      "metadata": {
        "id": "ba-mCsk_hF4X",
        "colab": {
          "base_uri": "https://localhost:8080/"
        },
        "outputId": "688d81ca-cead-4871-c9f5-6c08656b471a"
      },
      "execution_count": null,
      "outputs": [
        {
          "output_type": "stream",
          "name": "stdout",
          "text": [
            "  day_of_week  hour  total_trips\n",
            "0      Friday     0         8955\n",
            "1      Friday     1         5016\n",
            "2      Friday     2         2870\n",
            "3      Friday     3         1812\n",
            "4      Friday     4         2052\n"
          ]
        }
      ]
    },
    {
      "cell_type": "code",
      "source": [
        "from google.colab import files\n",
        "files.download('monthly_summary.csv')\n",
        "files.download('member_summary.csv')\n",
        "files.download('heatmap_summary.csv')"
      ],
      "metadata": {
        "id": "YSY5u8u9h1cc",
        "colab": {
          "base_uri": "https://localhost:8080/",
          "height": 17
        },
        "outputId": "554276fa-48c5-4390-d904-c8e8123bcb14"
      },
      "execution_count": null,
      "outputs": [
        {
          "output_type": "display_data",
          "data": {
            "text/plain": [
              "<IPython.core.display.Javascript object>"
            ],
            "application/javascript": [
              "\n",
              "    async function download(id, filename, size) {\n",
              "      if (!google.colab.kernel.accessAllowed) {\n",
              "        return;\n",
              "      }\n",
              "      const div = document.createElement('div');\n",
              "      const label = document.createElement('label');\n",
              "      label.textContent = `Downloading \"${filename}\": `;\n",
              "      div.appendChild(label);\n",
              "      const progress = document.createElement('progress');\n",
              "      progress.max = size;\n",
              "      div.appendChild(progress);\n",
              "      document.body.appendChild(div);\n",
              "\n",
              "      const buffers = [];\n",
              "      let downloaded = 0;\n",
              "\n",
              "      const channel = await google.colab.kernel.comms.open(id);\n",
              "      // Send a message to notify the kernel that we're ready.\n",
              "      channel.send({})\n",
              "\n",
              "      for await (const message of channel.messages) {\n",
              "        // Send a message to notify the kernel that we're ready.\n",
              "        channel.send({})\n",
              "        if (message.buffers) {\n",
              "          for (const buffer of message.buffers) {\n",
              "            buffers.push(buffer);\n",
              "            downloaded += buffer.byteLength;\n",
              "            progress.value = downloaded;\n",
              "          }\n",
              "        }\n",
              "      }\n",
              "      const blob = new Blob(buffers, {type: 'application/binary'});\n",
              "      const a = document.createElement('a');\n",
              "      a.href = window.URL.createObjectURL(blob);\n",
              "      a.download = filename;\n",
              "      div.appendChild(a);\n",
              "      a.click();\n",
              "      div.remove();\n",
              "    }\n",
              "  "
            ]
          },
          "metadata": {}
        },
        {
          "output_type": "display_data",
          "data": {
            "text/plain": [
              "<IPython.core.display.Javascript object>"
            ],
            "application/javascript": [
              "download(\"download_6f9f9e40-86a2-4c0d-81f0-6f29e53e17bc\", \"monthly_summary.csv\", 225)"
            ]
          },
          "metadata": {}
        },
        {
          "output_type": "display_data",
          "data": {
            "text/plain": [
              "<IPython.core.display.Javascript object>"
            ],
            "application/javascript": [
              "\n",
              "    async function download(id, filename, size) {\n",
              "      if (!google.colab.kernel.accessAllowed) {\n",
              "        return;\n",
              "      }\n",
              "      const div = document.createElement('div');\n",
              "      const label = document.createElement('label');\n",
              "      label.textContent = `Downloading \"${filename}\": `;\n",
              "      div.appendChild(label);\n",
              "      const progress = document.createElement('progress');\n",
              "      progress.max = size;\n",
              "      div.appendChild(progress);\n",
              "      document.body.appendChild(div);\n",
              "\n",
              "      const buffers = [];\n",
              "      let downloaded = 0;\n",
              "\n",
              "      const channel = await google.colab.kernel.comms.open(id);\n",
              "      // Send a message to notify the kernel that we're ready.\n",
              "      channel.send({})\n",
              "\n",
              "      for await (const message of channel.messages) {\n",
              "        // Send a message to notify the kernel that we're ready.\n",
              "        channel.send({})\n",
              "        if (message.buffers) {\n",
              "          for (const buffer of message.buffers) {\n",
              "            buffers.push(buffer);\n",
              "            downloaded += buffer.byteLength;\n",
              "            progress.value = downloaded;\n",
              "          }\n",
              "        }\n",
              "      }\n",
              "      const blob = new Blob(buffers, {type: 'application/binary'});\n",
              "      const a = document.createElement('a');\n",
              "      a.href = window.URL.createObjectURL(blob);\n",
              "      a.download = filename;\n",
              "      div.appendChild(a);\n",
              "      a.click();\n",
              "      div.remove();\n",
              "    }\n",
              "  "
            ]
          },
          "metadata": {}
        },
        {
          "output_type": "display_data",
          "data": {
            "text/plain": [
              "<IPython.core.display.Javascript object>"
            ],
            "application/javascript": [
              "download(\"download_731acdfa-ac27-4d48-af5e-cfea720c57d9\", \"member_summary.csv\", 103)"
            ]
          },
          "metadata": {}
        },
        {
          "output_type": "display_data",
          "data": {
            "text/plain": [
              "<IPython.core.display.Javascript object>"
            ],
            "application/javascript": [
              "\n",
              "    async function download(id, filename, size) {\n",
              "      if (!google.colab.kernel.accessAllowed) {\n",
              "        return;\n",
              "      }\n",
              "      const div = document.createElement('div');\n",
              "      const label = document.createElement('label');\n",
              "      label.textContent = `Downloading \"${filename}\": `;\n",
              "      div.appendChild(label);\n",
              "      const progress = document.createElement('progress');\n",
              "      progress.max = size;\n",
              "      div.appendChild(progress);\n",
              "      document.body.appendChild(div);\n",
              "\n",
              "      const buffers = [];\n",
              "      let downloaded = 0;\n",
              "\n",
              "      const channel = await google.colab.kernel.comms.open(id);\n",
              "      // Send a message to notify the kernel that we're ready.\n",
              "      channel.send({})\n",
              "\n",
              "      for await (const message of channel.messages) {\n",
              "        // Send a message to notify the kernel that we're ready.\n",
              "        channel.send({})\n",
              "        if (message.buffers) {\n",
              "          for (const buffer of message.buffers) {\n",
              "            buffers.push(buffer);\n",
              "            downloaded += buffer.byteLength;\n",
              "            progress.value = downloaded;\n",
              "          }\n",
              "        }\n",
              "      }\n",
              "      const blob = new Blob(buffers, {type: 'application/binary'});\n",
              "      const a = document.createElement('a');\n",
              "      a.href = window.URL.createObjectURL(blob);\n",
              "      a.download = filename;\n",
              "      div.appendChild(a);\n",
              "      a.click();\n",
              "      div.remove();\n",
              "    }\n",
              "  "
            ]
          },
          "metadata": {}
        },
        {
          "output_type": "display_data",
          "data": {
            "text/plain": [
              "<IPython.core.display.Javascript object>"
            ],
            "application/javascript": [
              "download(\"download_8bce1eba-8776-478b-894f-f8f27062dcc7\", \"heatmap_summary.csv\", 2799)"
            ]
          },
          "metadata": {}
        }
      ]
    },
    {
      "cell_type": "markdown",
      "source": [
        "#Conclusion\n",
        "\n",
        "1.   Seasonality: Trip volume shows a clear seasonal pattern, peaking during summer months (July–August) and reaching the lowest level in winter (January–February).\n",
        "2.   User Type Differences:\n",
        "*   Members consistently contribute more trips across the year.\n",
        "*   Casual riders, however, take longer trips on average.\n",
        "3.   **Behavior by Weekday**: Members dominate on weekdays, consistent with commuting usage. Casual riders are more active on weekends, suggesting leisure or tourism use.\n",
        "4.   Business Implications: These findings suggest that operational planning (bike rebalancing, fleet allocation) should consider seasonal demand, while marketing strategies should target casual riders in summer and reinforce loyalty programs for members year-round."
      ],
      "metadata": {
        "id": "1WhjNgbQzmb8"
      }
    }
  ]
}